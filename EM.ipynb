{
 "cells": [
  {
   "cell_type": "code",
   "execution_count": null,
   "metadata": {},
   "outputs": [],
   "source": []
  },
  {
   "cell_type": "code",
   "execution_count": null,
   "metadata": {},
   "outputs": [],
   "source": []
  },
  {
   "cell_type": "code",
   "execution_count": 42,
   "metadata": {},
   "outputs": [],
   "source": [
    "import pandas as pd\n",
    "import numpy as np\n",
    "from itertools import *\n",
    "# READ PREPROCESSED DATA FROM R FOR NN\n",
    "X_df = pd.read_csv(\"some_X.csv\", usecols=['NBR_EMPLOYEES', 'EMPL_GROWTH',\n",
    "       'COUNTRY_RISK_GROWTH_RATE', 'COUNTRY_RISK_DIVIDEND_YIELD',\n",
    "       'COUNTRY_RISK_PAYOUT_RATIO', 'VOLATILITY_30D', 'VOLATILITY_180D',\n",
    "       'PCT_CHG_1_YEAR', 'PCT_CHG_6_M', 'DIVIDEND_YIELD', 'MARKETCAP',\n",
    "       'TOTAL_ASSETS', 'TOTAL_LIABILITIES', 'CURRENT_ASSETS', 'EBIT',\n",
    "       'RETAINED_EARNINGS', 'SALES', 'SALES_GROWTH', 'INTEREST_EXPENSES',\n",
    "       'WHISTLE_BLOWER_POLICY', 'ETHICS_POLICY', 'BRIBERY_POLICY'])\n",
    "        #       'PCT_WOMEN_EMPLOYEES, PCT_WOMEN_MGT']\n",
    "\n",
    "Y_df = pd.read_csv(\"some_Y.csv\", usecols=[1])\n",
    "\n",
    "import torch\n",
    "from torch import nn\n",
    "from torch.autograd import Variable"
   ]
  },
  {
   "cell_type": "code",
   "execution_count": 56,
   "metadata": {},
   "outputs": [],
   "source": [
    "from random import shuffle\n",
    "def select_most_likely(mlp, loss_fn, x_row, y_row, random=0):\n",
    "    candidates = [] # TODO: For every -1 in row in the specific columns, try 0 and 1\n",
    "    \n",
    "    bad_values = {'WHISTLE_BLOWER_POLICY': 0,\n",
    "                            'ETHICS_POLICY': 0,\n",
    "                            'BRIBERY_POLICY': 0,\n",
    "                 'PCT_WOMEN_EMPLOYEES':-1,\n",
    "                  'PCT_WOMEN_MGT':-1}\n",
    "\n",
    "    possible_values_dict = {'WHISTLE_BLOWER_POLICY':[[1,0], [0,1]],\n",
    "                            'ETHICS_POLICY':[[1,0], [0,1]],\n",
    "                            'BRIBERY_POLICY':[[1,0], [0,1]],\n",
    "                           'PCT_WOMEN_EMPLOYEES':[[0], [0.05], [0.010], [0.020], [0.030], [0.040], [0.050], [0.060], [0.070], [0.080], [0.090],[0.0100]],\n",
    "                           'PCT_WOMEN_MGT':[[0], [0.05], [0.010], [0.020], [0.030], [0.040], [0.050], [0.060], [0.070], [0.080], [0.090],[0.0100]]}\n",
    "    \n",
    "    # Make a dictionary for the candidate values that we will expand later\n",
    "    candidate_dict = {}\n",
    "    for k, v in x_row.iteritems():\n",
    "        candidate_dict[k] = []\n",
    "        \n",
    "        if (k in bad_values): # We have to encode for the neural network\n",
    "            if (v == bad_values[k]):\n",
    "                for i in possible_values_dict[k]:\n",
    "                    # Directly encode the bad_value\n",
    "                    candidate_dict[k].append(i)\n",
    "            else:\n",
    "                candidate_dict[k] = [possible_values_dict[k][int(v) - 1]] # HACK: IT'S BECAUSE THEY HAVE VALUES 1 AND 2\n",
    "        else:\n",
    "            # Just add the value\n",
    "            candidate_dict[k].append([v])\n",
    "\n",
    "    best_candidate = None\n",
    "    lowest_loss = 100000000000\n",
    "\n",
    "    # In the dictionary we have the different candidates\n",
    "    if random==1:\n",
    "        p = list(product(*candidate_dict.values()))\n",
    "        shuffle(p)\n",
    "        candidate=p[0]\n",
    "        best_candidate = Variable(torch.FloatTensor(np.array(list(chain(*list(candidate)))))).cuda()\n",
    "    else:\n",
    "        for candidate in product(*candidate_dict.values()):\n",
    "            input = Variable(torch.FloatTensor(np.array(list(chain(*list(candidate)))))).cuda()\n",
    "            # Forward the candidate through the network        \n",
    "            y_pred = mlp(input)\n",
    "            loss = loss_fn(y_pred, y_row)\n",
    "            if loss < lowest_loss:\n",
    "                best_candidate = input\n",
    "    return best_candidate\n",
    "    \n",
    "def get_E_step(model, loss_fn, X_df, Y_df, random=0):\n",
    "    \"\"\" Return a torch CUDA variable of X\"\"\"\n",
    "    df_list = []        \n",
    "    for (k, j) in zip(X_df.iterrows(), Y_df.iterrows()):\n",
    "        (_, x) = k\n",
    "        (_, y) = j\n",
    "        df_list.append(select_most_likely(model, loss_fn, x, Variable(torch.FloatTensor(y.values).cuda()), random=random))\n",
    "    return torch.stack(df_list)\n"
   ]
  },
  {
   "cell_type": "code",
   "execution_count": null,
   "metadata": {},
   "outputs": [],
   "source": []
  },
  {
   "cell_type": "code",
   "execution_count": null,
   "metadata": {},
   "outputs": [],
   "source": []
  },
  {
   "cell_type": "code",
   "execution_count": 57,
   "metadata": {},
   "outputs": [],
   "source": [
    "def get_M_step(mlp, loss_fn, X, Y, N_iter):\n",
    "    learning_rate = 1e-5\n",
    "    for t in range(N_iter):\n",
    "        y_pred = model(X)\n",
    "        loss = loss_fn(y_pred, Y)\n",
    "        if (t % (N_iter / 2) == 0): print(loss)\n",
    "        model.zero_grad()\n",
    "        loss.backward()\n",
    "        for param in model.parameters():\n",
    "            param.data -= learning_rate * param.grad.data\n",
    "    return mlp, loss\n",
    "\n",
    "def EM_algorithm(X_df, Y_df, N_hidden=10, N_iter=30, N_iter_nn=10000):\n",
    "    \n",
    "    X = Variable(torch.FloatTensor(X_df.values)).cuda()\n",
    "    Y = Variable(torch.FloatTensor(Y_df.values)).cuda() # Always stays the same\n",
    "\n",
    "    # Make an initial model\n",
    "    print(\"Making model\")\n",
    "    model = torch.nn.Sequential(\n",
    "        torch.nn.Linear(X.shape[1] + 3, N_hidden),\n",
    "        torch.nn.ReLU(),\n",
    "        #torch.nn.Sigmoid(),\n",
    "        torch.nn.Linear(N_hidden, Y.shape[1]),\n",
    "        torch.nn.Sigmoid() # If it doesn't work, look here\n",
    "    )\n",
    "\n",
    "    model = model.cuda()\n",
    "    loss_fn = torch.nn.MSELoss(size_average=False)\n",
    "    \n",
    "    previous_loss = 10000000\n",
    "    # Init\n",
    "    for i in range(N_iter):\n",
    "        # Get the expected data\n",
    "        print(\"Doing iteration {} E step: finding most likely data\".format(i + 1))\n",
    "        \n",
    "        random = 1 if i==0 else 0\n",
    "        X = get_E_step(model, loss_fn, X_df, Y_df, random=random)\n",
    "        # TODO: Check if the predicted data is the same still?\n",
    "        # Train the model for some iterations\n",
    "        print(\"Doing iteration {} M step: training neural network\".format(i + 1))\n",
    "        learning_rate = 1e-3\n",
    "        for t in range(N_iter_nn):\n",
    "            y_pred = model(X)\n",
    "            loss = loss_fn(y_pred, Y)\n",
    "            if (t % (N_iter_nn / 2) == 0): print(loss)\n",
    "            model.zero_grad()\n",
    "            loss.backward()\n",
    "            for param in model.parameters():\n",
    "                param.data -= learning_rate * param.grad.data\n",
    "\n",
    "        if (-loss + previous_loss)<0.0001: \n",
    "            print(\"Loss not decreasing: exit\")\n",
    "            break\n",
    "        previous_loss = loss\n",
    "    return X, model\n",
    "    "
   ]
  },
  {
   "cell_type": "code",
   "execution_count": 58,
   "metadata": {},
   "outputs": [
    {
     "name": "stdout",
     "output_type": "stream",
     "text": [
      "Making model\n",
      "Doing iteration 1 E step: finding most likely data\n",
      "Doing iteration 1 M step: training neural network\n",
      "Variable containing:\n",
      " 983.8035\n",
      "[torch.cuda.FloatTensor of size () (GPU 0)]\n",
      "\n",
      "Variable containing:\n",
      " 0.5070\n",
      "[torch.cuda.FloatTensor of size () (GPU 0)]\n",
      "\n",
      "Doing iteration 2 E step: finding most likely data\n",
      "Doing iteration 2 M step: training neural network\n",
      "Variable containing:\n",
      " 0.4636\n",
      "[torch.cuda.FloatTensor of size () (GPU 0)]\n",
      "\n",
      "Variable containing:\n",
      " 0.4365\n",
      "[torch.cuda.FloatTensor of size () (GPU 0)]\n",
      "\n"
     ]
    }
   ],
   "source": []
  },
  {
   "cell_type": "code",
   "execution_count": 91,
   "metadata": {},
   "outputs": [],
   "source": [
    "def two_columns_to_one(bla):\n",
    "    if bla.equal(torch.FloatTensor([1,0]).cuda()):\n",
    "        return 1\n",
    "    elif bla.equal(torch.FloatTensor([0,1]).cuda()):\n",
    "        return 2\n",
    "    else:\n",
    "        print(\"ERROR\")\n",
    "        return 0\n",
    "\n",
    "\n",
    "def pytorch_vars_to_df(X_df, X):\n",
    "    new_df = X_df.copy()\n",
    "    # Map categorical variables back\n",
    "    cat = {'WHISTLE_BLOWER_POLICY','ETHICS_POLICY','BRIBERY_POLICY'}\n",
    "    new_df['WHISTLE_BLOWER_POLICY'] = pd.Series([two_columns_to_one(x) for x in X_final[:, 19:21].data]) - 1\n",
    "    new_df['ETHICS_POLICY'] = pd.Series([two_columns_to_one(x) for x in X_final[:, 21:23].data]) - 1\n",
    "    new_df['BRIBERY_POLICY'] = pd.Series([two_columns_to_one(x) for x in X_final[:, 23:25].data]) - 1\n",
    "\n",
    "    return new_df\n"
   ]
  },
  {
   "cell_type": "code",
   "execution_count": 92,
   "metadata": {},
   "outputs": [],
   "source": [
    "\n",
    "#X_final, mlp = EM_algorithm(X_df, Y_df, N_hidden=20, N_iter=10, N_iter_nn=20000)\n",
    "last_df = pytorch_vars_to_df(X_df, X_final)\n",
    "\n",
    "last_df[\"DEFAULT_PROB\"] = Y_df[\"DEFAULT_PROB\"]\n",
    "last_df.to_csv(\"EM_data.csv\")"
   ]
  },
  {
   "cell_type": "code",
   "execution_count": 68,
   "metadata": {},
   "outputs": [],
   "source": [
    "outputs = (mlp(X_final).data).cpu()"
   ]
  },
  {
   "cell_type": "code",
   "execution_count": 81,
   "metadata": {},
   "outputs": [
    {
     "data": {
      "text/plain": [
       "array([[0.02813887],\n",
       "       [0.02176614],\n",
       "       [0.03820742],\n",
       "       ...,\n",
       "       [0.0071764 ],\n",
       "       [0.01487532],\n",
       "       [0.00735415]])"
      ]
     },
     "execution_count": 81,
     "metadata": {},
     "output_type": "execute_result"
    }
   ],
   "source": [
    "outputs.numpy()\n",
    "Y_df.values"
   ]
  },
  {
   "cell_type": "code",
   "execution_count": 78,
   "metadata": {},
   "outputs": [],
   "source": [
    "import seaborn as sns\n",
    "import matplotlib.pyplot as plt"
   ]
  },
  {
   "cell_type": "code",
   "execution_count": 86,
   "metadata": {},
   "outputs": [
    {
     "data": {
      "image/png": "[encoded data removed]",
      "text/plain": [
       "<matplotlib.figure.Figure at 0x7f0e49be5320>"
      ]
     },
     "metadata": {},
     "output_type": "display_data"
    }
   ],
   "source": [
    "plt.scatter(outputs.numpy(), Y_df.values)\n",
    "plt.show()"
   ]
  },
  {
   "cell_type": "code",
   "execution_count": 94,
   "metadata": {},
   "outputs": [],
   "source": [
    "last_df['res'] = np.abs(outputs.numpy() - Y_df.values)"
   ]
  },
  {
   "cell_type": "code",
   "execution_count": 109,
   "metadata": {},
   "outputs": [
    {
     "name": "stdout",
     "output_type": "stream",
     "text": [
      "0.17347069184091402\n"
     ]
    },
    {
     "data": {
      "text/plain": [
       "Int64Index([3132, 3068, 2937, 227, 331], dtype='int64')"
      ]
     },
     "execution_count": 109,
     "metadata": {},
     "output_type": "execute_result"
    }
   ],
   "source": [
    "print(last_df['res'].max())\n",
    "last_df.ix[last_df['res'].argmax()]\n",
    "\n",
    "\n",
    "last_df.nlargest(5, ['res']).index"
   ]
  },
  {
   "cell_type": "code",
   "execution_count": 110,
   "metadata": {},
   "outputs": [
    {
     "data": {
      "text/plain": [
       "0"
      ]
     },
     "execution_count": 110,
     "metadata": {},
     "output_type": "execute_result"
    }
   ],
   "source": [
    "last_df.index[0]"
   ]
  }
 ],
 "metadata": {
  "kernelspec": {
   "display_name": "Python 3",
   "language": "python",
   "name": "python3"
  },
  "language_info": {
   "codemirror_mode": {
    "name": "ipython",
    "version": 3
   },
   "file_extension": ".py",
   "mimetype": "text/x-python",
   "name": "python",
   "nbconvert_exporter": "python",
   "pygments_lexer": "ipython3",
   "version": "3.6.3"
  }
 },
 "nbformat": 4,
 "nbformat_minor": 2
}

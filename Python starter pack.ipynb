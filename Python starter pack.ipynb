{
 "cells": [
  {
   "cell_type": "code",
   "execution_count": 3,
   "metadata": {
    "collapsed": false
   },
   "outputs": [
    {
     "name": "stderr",
     "output_type": "stream",
     "text": [
      "/home/nozomi/anaconda3/lib/python3.6/site-packages/pandas/util/_decorators.py:118: FutureWarning: The `sheetname` keyword is deprecated, use `sheet_name` instead\n",
      "  return func(*args, **kwargs)\n"
     ]
    }
   ],
   "source": [
    "import pandas as pd\n",
    "import numpy as np\n",
    "import feather\n",
    "import os\n",
    "\n",
    "#os.listdir(\".\")\n",
    "#credit = pd.read_csv(\"Credit_DataSet.csv\")\n",
    "os.chdir('./Credit/')\n",
    "\n",
    "# TODO: READ THE PROCESSED CSV INSTEAD (FOR EXAMPLE WITH CONVERTED CURRENCY)!\n",
    "\n",
    "credit = pd.read_excel(\"Credit_DataSet.xlsx\", sheetname=\"DATA\", skiprows=0)\n",
    "\n",
    "# Quickly select numeric columns\n",
    "\n",
    "to_keep = ['NBR_EMPLOYEES', 'COUNTRY_RISK_GROWTH_RATE',\n",
    "       'COUNTRY_RISK_DIVIDEND_YIELD', 'COUNTRY_RISK_PAYOUT_RATIO',\n",
    "       'VOLATILITY_30D', 'VOLATILITY_180D', 'PCT_CHG_1_YEAR', 'PCT_CHG_6_M',\n",
    "       'DIVIDEND_YIELD', 'MARKETCAP', 'TOTAL_ASSETS', 'TOTAL_LIABILITIES',\n",
    "       'CURRENT_ASSETS', 'EBIT', 'RETAINED_EARNINGS', 'SALES', 'SALES_GROWTH',\n",
    "       'INTEREST_EXPENSES']\n",
    "\n",
    "X = credit[ to_keep + [\"DEFAULT_PROB\"] ].dropna()\n",
    "\n",
    "Y = X[\"DEFAULT_PROB\"].values\n",
    "X = X[to_keep].values"
   ]
  },
  {
   "cell_type": "code",
   "execution_count": 4,
   "metadata": {
    "collapsed": false,
    "scrolled": true
   },
   "outputs": [
    {
     "name": "stdout",
     "output_type": "stream",
     "text": [
      "[ 1.13830000e+05  7.82356300e+00  2.38885200e+00  4.03186470e+01\n",
      "  1.72569100e+01  1.57116700e+01  8.61877400e+00  2.07591500e+01\n",
      "  3.06685749e+00  8.97078140e+10  7.64960000e+04  4.39280000e+04\n",
      "  2.59460000e+04  6.42600000e+03  3.15150000e+04  5.75500000e+04\n",
      " -1.83096992e+01  6.61000000e+02]\n"
     ]
    }
   ],
   "source": [
    "print(X[0,])"
   ]
  },
  {
   "cell_type": "code",
   "execution_count": 5,
   "metadata": {
    "collapsed": false,
    "scrolled": true
   },
   "outputs": [
    {
     "data": {
      "text/plain": [
       "'/home/nozomi/Documents/github/datathon/Credit'"
      ]
     },
     "execution_count": 5,
     "metadata": {},
     "output_type": "execute_result"
    }
   ],
   "source": [
    "os.getcwd()"
   ]
  },
  {
   "cell_type": "code",
   "execution_count": 6,
   "metadata": {
    "collapsed": false
   },
   "outputs": [],
   "source": [
    "os.getcwd()\n",
    "#type(X)\n",
    "os.chdir(\"..\")\n",
    "df = pd.read_feather('df.feather')"
   ]
  },
  {
   "cell_type": "code",
   "execution_count": 7,
   "metadata": {
    "collapsed": false
   },
   "outputs": [
    {
     "data": {
      "text/plain": [
       "(3933, 30)"
      ]
     },
     "execution_count": 7,
     "metadata": {},
     "output_type": "execute_result"
    }
   ],
   "source": [
    "df.shape\n"
   ]
  }
 ],
 "metadata": {
  "kernelspec": {
   "display_name": "Python 3",
   "language": "python",
   "name": "python3"
  },
  "language_info": {
   "codemirror_mode": {
    "name": "ipython",
    "version": 3
   },
   "file_extension": ".py",
   "mimetype": "text/x-python",
   "name": "python",
   "nbconvert_exporter": "python",
   "pygments_lexer": "ipython3",
   "version": "3.6.4"
  }
 },
 "nbformat": 4,
 "nbformat_minor": 2
}
